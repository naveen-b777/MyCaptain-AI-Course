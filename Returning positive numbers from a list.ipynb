{
 "cells": [
  {
   "cell_type": "code",
   "execution_count": 2,
   "metadata": {},
   "outputs": [
    {
     "name": "stdout",
     "output_type": "stream",
     "text": [
      "Enter number of elements in the list:5\n",
      "Enter the element:1\n",
      "Enter the element:-10\n",
      "Enter the element:5\n",
      "Enter the element:-2\n",
      "Enter the element:-3\n",
      "\n",
      "Given list: [1, -10, 5, -2, -3]\n",
      "\n",
      "Positive numbers in the list are:\n",
      "1\n",
      "5\n"
     ]
    }
   ],
   "source": [
    "n= int(input('Enter number of elements in the list:'))\n",
    "lis=[]\n",
    "c=0\n",
    "while c<n:\n",
    "    value= int(input('Enter the element:'))\n",
    "    lis.append(value)\n",
    "    c+=1\n",
    "print()\n",
    "print('Given list:',lis)\n",
    "print()\n",
    "print('Positive numbers in the list are:')\n",
    "for i in lis:\n",
    "    if i>0:\n",
    "        print(i)\n",
    "    else:\n",
    "        continue"
   ]
  }
 ],
 "metadata": {
  "kernelspec": {
   "display_name": "Python 3",
   "language": "python",
   "name": "python3"
  },
  "language_info": {
   "codemirror_mode": {
    "name": "ipython",
    "version": 3
   },
   "file_extension": ".py",
   "mimetype": "text/x-python",
   "name": "python",
   "nbconvert_exporter": "python",
   "pygments_lexer": "ipython3",
   "version": "3.8.3"
  }
 },
 "nbformat": 4,
 "nbformat_minor": 4
}
